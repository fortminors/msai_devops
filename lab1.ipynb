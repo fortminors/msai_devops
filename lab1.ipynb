{
 "cells": [
  {
   "cell_type": "code",
   "execution_count": 34,
   "id": "6b704998-f1cf-49d4-8070-0383e9014a5b",
   "metadata": {
    "tags": []
   },
   "outputs": [],
   "source": [
    "import requests\n",
    "import csv\n",
    "\n",
    "from bs4 import BeautifulSoup"
   ]
  },
  {
   "cell_type": "code",
   "execution_count": 57,
   "id": "1df302f7-a760-4f38-bbc7-4297d9385ec9",
   "metadata": {
    "tags": []
   },
   "outputs": [],
   "source": [
    "url = 'https://pytorch.org/vision/stable/models.html'\n",
    "out_path = 'data/docs.csv'\n",
    "min_count = 10"
   ]
  },
  {
   "cell_type": "code",
   "execution_count": 58,
   "id": "4d3da39b-ac62-4ba6-910b-47d052b4a987",
   "metadata": {
    "tags": []
   },
   "outputs": [],
   "source": [
    "response = requests.get(url)"
   ]
  },
  {
   "cell_type": "code",
   "execution_count": 59,
   "id": "1e727bcb-676d-4009-9848-3b18211cddc0",
   "metadata": {
    "tags": []
   },
   "outputs": [],
   "source": [
    "soup = BeautifulSoup(response.content, 'html.parser')"
   ]
  },
  {
   "cell_type": "code",
   "execution_count": 60,
   "id": "0c527b7e-6c91-48ac-8f25-d8038e2a5b0c",
   "metadata": {
    "tags": []
   },
   "outputs": [],
   "source": [
    "lines = soup.get_text().split('\\n')"
   ]
  },
  {
   "cell_type": "code",
   "execution_count": 61,
   "id": "bad11382-85e8-491a-b94b-b9ea407e3ea3",
   "metadata": {
    "tags": []
   },
   "outputs": [],
   "source": [
    "lines = [l.strip() for l in lines if l and not l.isspace()]"
   ]
  },
  {
   "cell_type": "code",
   "execution_count": 62,
   "id": "38ec6468-6512-4c63-8b41-3f6754574a6b",
   "metadata": {
    "tags": []
   },
   "outputs": [
    {
     "data": {
      "text/plain": [
       "1260"
      ]
     },
     "execution_count": 62,
     "metadata": {},
     "output_type": "execute_result"
    }
   ],
   "source": [
    "len(lines)"
   ]
  },
  {
   "cell_type": "code",
   "execution_count": 63,
   "id": "9aeec91c-2ee4-49a0-872d-1f979fde6745",
   "metadata": {
    "tags": []
   },
   "outputs": [],
   "source": [
    "words = {}\n",
    "\n",
    "for l in lines:\n",
    "    cur_words = l.split()\n",
    "    \n",
    "    for w in cur_words:\n",
    "        w = w.lower()\n",
    "        if (w not in words):\n",
    "            words[w] = 0\n",
    "        words[w] += 1\n",
    "        "
   ]
  },
  {
   "cell_type": "code",
   "execution_count": 64,
   "id": "7f3bc884-6299-48c6-847f-32d6a987c3f8",
   "metadata": {
    "tags": []
   },
   "outputs": [
    {
     "data": {
      "text/plain": [
       "1273"
      ]
     },
     "execution_count": 64,
     "metadata": {},
     "output_type": "execute_result"
    }
   ],
   "source": [
    "len(words)"
   ]
  },
  {
   "cell_type": "code",
   "execution_count": 66,
   "id": "0b58ec13-0f56-4947-8e0b-f58acd6f9a69",
   "metadata": {
    "tags": []
   },
   "outputs": [],
   "source": [
    "words = dict(filter(lambda item: item[1] > min_count, words.items()))"
   ]
  },
  {
   "cell_type": "code",
   "execution_count": 67,
   "id": "a852d203-13a8-4b24-b413-da6d373c914e",
   "metadata": {
    "tags": []
   },
   "outputs": [
    {
     "data": {
      "text/plain": [
       "39"
      ]
     },
     "execution_count": 67,
     "metadata": {},
     "output_type": "execute_result"
    }
   ],
   "source": [
    "len(words)"
   ]
  },
  {
   "cell_type": "code",
   "execution_count": 68,
   "id": "d5597fe8-4fbe-401d-b78b-184bb6264efc",
   "metadata": {
    "tags": []
   },
   "outputs": [],
   "source": [
    "words = dict(sorted(words.items(), key=lambda item: item[1], reverse=True))"
   ]
  },
  {
   "cell_type": "code",
   "execution_count": 69,
   "id": "34b8c0ba-7485-4413-a63a-929b8ffb67bb",
   "metadata": {
    "tags": []
   },
   "outputs": [],
   "source": [
    "with open(out_path, 'w', newline='') as csvfile:\n",
    "    fieldnames = ['Word', 'Count']\n",
    "    writer = csv.DictWriter(csvfile, fieldnames=fieldnames)\n",
    "\n",
    "    writer.writeheader()\n",
    "    \n",
    "    for w,c in words.items():\n",
    "        writer.writerow({'Word': w, 'Count': c})"
   ]
  },
  {
   "cell_type": "code",
   "execution_count": null,
   "id": "78c71d90-e494-4c7c-a8e9-fa3d6a9dfef9",
   "metadata": {},
   "outputs": [],
   "source": []
  }
 ],
 "metadata": {
  "kernelspec": {
   "display_name": "Python 3 (ipykernel)",
   "language": "python",
   "name": "python3"
  },
  "language_info": {
   "codemirror_mode": {
    "name": "ipython",
    "version": 3
   },
   "file_extension": ".py",
   "mimetype": "text/x-python",
   "name": "python",
   "nbconvert_exporter": "python",
   "pygments_lexer": "ipython3",
   "version": "3.10.9"
  }
 },
 "nbformat": 4,
 "nbformat_minor": 5
}
